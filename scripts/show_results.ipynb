{
 "cells": [
  {
   "cell_type": "code",
   "execution_count": 26,
   "id": "3bf07022-3f8b-4084-b1da-9d77c15a949c",
   "metadata": {},
   "outputs": [],
   "source": [
    "import os\n",
    "# import sys\n",
    "import numpy as np\n",
    "import torch\n",
    "import torch.nn as nn\n",
    "import torch.optim as optim\n",
    "import copy\n",
    "import pandas as pd\n",
    "from rdkit import Chem\n",
    "from rdkit.Chem import AllChem\n",
    "# from rdkit.Chem import Descriptors\n",
    "import time\n",
    "import pickle\n",
    "import matplotlib.pyplot as plt\n",
    "\n",
    "\n",
    "from fragdockrl import load_ep\n",
    "from fragdockrl import utils, rl_utils"
   ]
  },
  {
   "cell_type": "code",
   "execution_count": 21,
   "id": "d14b036d-3ea8-4d0b-9bf2-dc12aeea943a",
   "metadata": {},
   "outputs": [],
   "source": [
    "d_dir = '.'\n",
    "data_dir = d_dir+'/../data'\n",
    "ep_dir = d_dir+'/ep'\n",
    "protein_dir = d_dir+'/../fix'"
   ]
  },
  {
   "cell_type": "code",
   "execution_count": 6,
   "id": "05e122d6-54c9-462a-8151-48197a6f71ad",
   "metadata": {},
   "outputs": [],
   "source": [
    "\n",
    "\n",
    "building_block_file = data_dir + '/bb_reaction.pkl'\n",
    "reaction_file = data_dir + '/smirks_reactant.pkl'\n",
    "m_bb_file = data_dir + '/m_bb.pkl'\n",
    "\n",
    "dd = utils.load_reaction_data(building_block_file, reaction_file, m_bb_file)\n",
    "df_bb, df_reaction, reactant_id_dict, mol_bb_dict = dd\n",
    "reaction_key = reactant_id_dict.keys()\n",
    "b_gg = df_bb[df_bb.columns[2:]].any(axis=1)\n",
    "b_gg.loc[0]=True\n",
    "df_bb = df_bb[b_gg]"
   ]
  },
  {
   "cell_type": "code",
   "execution_count": 4,
   "id": "d9444b94-bb07-49de-90e9-f9ff1b5d7b13",
   "metadata": {},
   "outputs": [],
   "source": [
    "\n",
    "p_list, ep_simple_list, shot_list, ep_tree_dict = load_ep(ep_dir)"
   ]
  },
  {
   "cell_type": "code",
   "execution_count": 22,
   "id": "96921f47-6e61-405e-9599-5eab4c64a0fe",
   "metadata": {},
   "outputs": [],
   "source": [
    "\n",
    "# config.txt\n",
    "# protein_pdb_file = protein_dir + '/2P2IA_receptor.pdb'\n",
    "# protein_pdbqt_file = protein_dir + '/2P2IA_receptor.pdbqt'\n",
    "ligand_pdb_file = protein_dir + '/2P2IA_608.pdb' \n",
    "start_smi = 'NCc1ccncc1'\n",
    "smi_ref_com = 'Cc1ccncc1'\n",
    "ref_atom_idx_ref = 0\n",
    "\n",
    "m_ref = Chem.MolFromPDBFile(ligand_pdb_file, removeHs=True)\n",
    "\n",
    "m_start_h = utils.prep_ref_mol_simple(start_smi, m_ref)\n",
    "m_ref_com_h = utils.prep_ref_mol_simple(smi_ref_com, m_ref)\n",
    "m_start = Chem.RemoveHs(m_start_h)\n",
    "m_ref_com = Chem.RemoveHs(m_ref_com_h)\n",
    "\n",
    "cut_para_dict = {\n",
    "    'num_rb': 12,\n",
    "    'num_heavy_atoms': 60,\n",
    "    'mol_wt': 650,\n",
    "    'timeout_docking': 120,\n",
    "    'cut_score': 3,  # clip docking score\n",
    "    'cut_rmsd': 2.5,\n",
    "}\n",
    "\n",
    "# penelty_para_dict = {'w_logp': 1.0, 'w_mw': 1.0, 'w_ha': 1.0, 'w_hd': 1.0,}\n",
    "penelty_para_dict = {'w_logp': 0.0, 'w_mw': 0.0, 'w_ha': 0.0, 'w_hd': 0.0}"
   ]
  },
  {
   "cell_type": "code",
   "execution_count": null,
   "id": "9c847cde-1d3c-4bac-aa68-0ef7799dd821",
   "metadata": {},
   "outputs": [],
   "source": []
  },
  {
   "cell_type": "code",
   "execution_count": null,
   "id": "ece6caca-f6a9-4f96-8b81-ebeb855ac6e7",
   "metadata": {},
   "outputs": [],
   "source": [
    "#p_list.append([idx, cumulative_reward, final_reward, dock_score, dock_rmsd, mol_wt, num_rb, logp, num_hd, num_ha, num_ring, tpsa, num_heavy_atoms])"
   ]
  },
  {
   "cell_type": "code",
   "execution_count": null,
   "id": "ca2f3f94-c894-47db-ac85-66dcb327d765",
   "metadata": {},
   "outputs": [],
   "source": [
    "a_list = list()\n",
    "leg_list = list()\n",
    "num_ba = 20000\n",
    "for i in range(000,4):\n",
    "    ini = i*num_ba\n",
    "    fin = (i+1)*num_ba\n",
    "    a_list.append(p_list[ini:fin,2])\n",
    "    leg_list.append('%s-%s' %(ini//200+1, fin//200))\n",
    "\n",
    "#_ = plt.hist(a_list, density = True)\n",
    "_ = plt.hist(a_list, bins=np.arange(-3,13.5,2), density = True)\n",
    "\n",
    "plt.xlabel('Docking score', fontsize=16)\n",
    "plt.ylabel('Density', fontsize=16)\n",
    "plt.legend(leg_list, title = 'Epochs')\n",
    "plt.tight_layout()\n",
    "plt.show()"
   ]
  },
  {
   "cell_type": "code",
   "execution_count": null,
   "id": "7ba4e664-daa8-494b-920c-23ea427c5609",
   "metadata": {},
   "outputs": [],
   "source": [
    "dd_list = list()\n",
    "\n",
    "num_ba = 200\n",
    "j=1\n",
    "for i in range(000,400):\n",
    "    ini = i*num_ba\n",
    "    fin = (i+1)*num_ba\n",
    "    d_mean = p_list[ini:fin,j].mean()\n",
    "    dd_list.append([i+1,d_mean])\n",
    "dd_list = np.array(dd_list)\n",
    "plt.plot(dd_list[:,0], dd_list[:,1])\n",
    "plt.xlabel('Epochs', fontsize=16)\n",
    "plt.ylabel('Average Total reward', fontsize=16)\n",
    "plt.tight_layout()\n",
    "plt.show()"
   ]
  },
  {
   "cell_type": "code",
   "execution_count": 9,
   "id": "c7691b3d-7f0d-4214-aadc-cac6cc0c2bd7",
   "metadata": {},
   "outputs": [
    {
     "name": "stdout",
     "output_type": "stream",
     "text": [
      "14396\n"
     ]
    }
   ],
   "source": [
    "count = 0\n",
    "mm_dict = dict()\n",
    "gg_list = list()\n",
    "for i, ep_ss in enumerate(ep_simple_list[:80000]):\n",
    "    idx = ep_ss['idx']\n",
    "    ep_list = ep_ss['ep']\n",
    "    dock_score = ep_ss['dock_score']\n",
    "    ss = list()\n",
    "    for ep in ep_list:\n",
    "        if ep[1] :\n",
    "            ss.append('%d' %ep[0])\n",
    "    ss2 = '_'.join(ss)\n",
    "    if ss2 in mm_dict:\n",
    "        count += 1\n",
    "#        print(ss2, dock_score, idx, mm_dict[ss2][0])\n",
    "    else:\n",
    "        mm_dict[ss2] = (idx, dock_score)\n",
    "#        if dock_score < -14:\n",
    "#            print(ss2, dock_score, idx)\n",
    "    if i%200==199:\n",
    "        gg_list.append(((i+1)/200, count))\n",
    "print(count)\n",
    "gg_list = np.array(gg_list, dtype=int)"
   ]
  },
  {
   "cell_type": "code",
   "execution_count": 10,
   "id": "3ad1db3e-f6e0-485f-9902-1d35839f95ef",
   "metadata": {},
   "outputs": [],
   "source": [
    "df = pd.DataFrame(gg_list,columns=['epoch', 'VGFR2'])\n",
    "#df.to_csv('cumu_vgfr2.csv', index=False)"
   ]
  },
  {
   "cell_type": "code",
   "execution_count": null,
   "id": "7b1894cc-9ae5-4758-aa7c-4f8c30a272fe",
   "metadata": {},
   "outputs": [],
   "source": [
    "plt.plot(gg_list[:,0], gg_list[:,1])\n",
    "plt.xlabel('Epochs', fontsize=16)\n",
    "plt.ylabel('Cumulative Duplicate', fontsize=16)\n",
    "plt.tight_layout()\n",
    "plt.show()"
   ]
  },
  {
   "cell_type": "code",
   "execution_count": null,
   "id": "5e26ada4-edab-4b81-92af-a5fc913babe9",
   "metadata": {},
   "outputs": [],
   "source": [
    "temperature0 = 0.45\n",
    "temp_reduce = 0.99\n",
    "temperature_min = 0.05\n",
    "temperature_list = list()\n",
    "for i_gen in range(0,400):\n",
    "    temperature = temperature0 * np.power(temp_reduce, i_gen) + temperature_min\n",
    "    temperature_list.append((i_gen, temperature))\n",
    "temperature_list = np.array(temperature_list)\n",
    "plt.plot(temperature_list[:,0], temperature_list[:,1])"
   ]
  },
  {
   "cell_type": "code",
   "execution_count": 14,
   "id": "b043c20c-ad15-4c46-993e-8fc827eef66c",
   "metadata": {},
   "outputs": [],
   "source": [
    "dock_score_list = p_list[:,2]\n",
    "idx_sort = (-dock_score_list).argsort()"
   ]
  },
  {
   "cell_type": "code",
   "execution_count": null,
   "id": "02fd891c-3d74-4e40-994e-0ff4cfef6f57",
   "metadata": {},
   "outputs": [],
   "source": [
    "for i in range(0,10):\n",
    "    ep_idx0 = idx_sort[i]\n",
    "    ep_simple = ep_simple_list[ep_idx0]\n",
    "    print(ep_simple)\n",
    "#    m_new = copy.copy(m_start)\n",
    "#    smi_new = Chem.MolToSmiles(m_new)\n",
    "#    print(smi_new)\n",
    "#    ggg.append(ep_idx0)\n",
    "    ep_idx = ep_simple['idx']\n",
    "    ep_r = ep_simple['ep']\n",
    "    ep_dock = ep_simple['dock_score']\n",
    "    print(ep_idx, ep_dock, ep_r)"
   ]
  },
  {
   "cell_type": "code",
   "execution_count": null,
   "id": "651699d8-eebb-44a0-b79a-f4122dd3d315",
   "metadata": {},
   "outputs": [],
   "source": [
    "for ep_idx0 in idx_sort[0:10]:\n",
    "    ep_simple = ep_simple_list[ep_idx0]\n",
    "    m_0 = copy.copy(m_start)\n",
    "    m_0.RemoveAllConformers()\n",
    "    \n",
    "    m_new = copy.copy(m_start)\n",
    "    smi_new = Chem.MolToSmiles(m_new)\n",
    "    print('start_SMILES:',smi_new)\n",
    "    \n",
    "    ep_idx = ep_simple['idx']\n",
    "    ep_r = ep_simple['ep']\n",
    "    ep_dock = ep_simple['dock_score']\n",
    "#    print(ep_idx, ep_dock, ep_r)\n",
    "    bb_select_list = list()\n",
    "    bb_select_list.append(m_0)\n",
    "    bb_select_list_id = list()\n",
    "    bb_select_list_id.append('start')\n",
    "    \n",
    "    for ep_r0 in ep_r:\n",
    "        rea_id = ep_r0[0]\n",
    "        if not ep_r0[1]:\n",
    "            continue\n",
    "        pr_list = rl_utils.possible_reaction(m_new, reactant_id_dict, df_reaction)\n",
    "        df00 = df_bb.loc[rea_id]\n",
    "        smi_bb = df00['SMILES']\n",
    "        rea2_tmp = df00[df00==True]\n",
    "        m_cc = mol_bb_dict[rea_id]\n",
    "        b_id = df_bb.at[(rea_id,'Catalog_ID')]\n",
    "    #    print(b_id)\n",
    "        bb_select_list_id.append(b_id)\n",
    "        bb_select_list.append(m_cc)\n",
    "    #    print(ep_r0)\n",
    "        for pr in pr_list:\n",
    "            if pr[3] in rea2_tmp:\n",
    "    #            print(pr)\n",
    "                reaction_id = pr[1]\n",
    "                reactant_num = pr[2]\n",
    "    #            print(reaction_id)\n",
    "                smirks = df_reaction.at[reaction_id, 'smirks']\n",
    "                reaction_name = df_reaction.loc[reaction_id]['name']\n",
    "                rxn = AllChem.ReactionFromSmarts(smirks)\n",
    "    #            print(smirks)\n",
    "                if reactant_num == 1:\n",
    "                    m_new_list = rxn.RunReactants((m_new, m_cc))\n",
    "                    \n",
    "                else:\n",
    "                    m_new_list = rxn.RunReactants((m_cc, m_new))\n",
    "                m_new = m_new_list[0][0]\n",
    "                m_new = Chem.RemoveAllHs(m_new)\n",
    "                smi_new = Chem.MolToSmiles(m_new)\n",
    "                print(rea_id, b_id, smi_bb, reaction_id, reaction_name, smirks)\n",
    "                break\n",
    "    print('final_SMILES:',smi_new)\n",
    "    print('\\n')"
   ]
  },
  {
   "cell_type": "code",
   "execution_count": null,
   "id": "be53e197-b483-4931-9c12-c0e7e129c6d6",
   "metadata": {},
   "outputs": [],
   "source": []
  }
 ],
 "metadata": {
  "kernelspec": {
   "display_name": "ml",
   "language": "python",
   "name": "ml"
  },
  "language_info": {
   "codemirror_mode": {
    "name": "ipython",
    "version": 3
   },
   "file_extension": ".py",
   "mimetype": "text/x-python",
   "name": "python",
   "nbconvert_exporter": "python",
   "pygments_lexer": "ipython3",
   "version": "3.12.11"
  }
 },
 "nbformat": 4,
 "nbformat_minor": 5
}
